{
 "cells": [
  {
   "cell_type": "code",
   "execution_count": 1,
   "metadata": {
    "collapsed": true
   },
   "outputs": [],
   "source": [
    "import pandas as pd\n",
    "import numpy as np"
   ]
  },
  {
   "cell_type": "markdown",
   "metadata": {},
   "source": [
    "# Load Dataset"
   ]
  },
  {
   "cell_type": "code",
   "execution_count": 2,
   "metadata": {
    "collapsed": false
   },
   "outputs": [
    {
     "name": "stderr",
     "output_type": "stream",
     "text": [
      "C:\\Users\\Collin\\Anaconda3\\lib\\site-packages\\IPython\\core\\interactiveshell.py:2717: DtypeWarning: Columns (3) have mixed types. Specify dtype option on import or set low_memory=False.\n",
      "  interactivity=interactivity, compiler=compiler, result=result)\n"
     ]
    }
   ],
   "source": [
    "email_data = pd.read_csv('task_data_set.csv')\n",
    "data = email_data.copy()"
   ]
  },
  {
   "cell_type": "markdown",
   "metadata": {},
   "source": [
    "# Clean Dataset"
   ]
  },
  {
   "cell_type": "code",
   "execution_count": 3,
   "metadata": {
    "collapsed": true
   },
   "outputs": [],
   "source": [
    "def transform_data(df):\n",
    "    df.Risk = df.Risk.fillna('Unknown')\n",
    "    Risk_mapper = {'Big':3 , 'Med': 2, 'Small': 1, 'Unknown':0}\n",
    "    df.Risk = df.Risk.replace(Risk_mapper)\n",
    "\n",
    "    df.Frequency = df.Frequency.fillna('Never')\n",
    "    Frequency_mapper = {'High':3 , 'Low': 2, 'OneTime': 1, 'Never':0}\n",
    "    df.Frequency = df.Frequency.replace(Frequency_mapper)\n",
    "\n",
    "    df.HasChildren = df.HasChildren.fillna('Unknown')\n",
    "    HasChildren_mapper = {'Y':2 , 'N': 1, 'Unknown': 0}\n",
    "    df['HasChildren'] = df.HasChildren.replace(HasChildren_mapper)\n",
    "\n",
    "    df = data.drop('Zip',axis=1)\n",
    "\n",
    "    df['Date'] =  pd.to_datetime(df['RegistrationDate'], format='%d/%m/%Y')\n",
    "    last_date = df['Date'].max()\n",
    "    df['Days_Since_Registration'] = (last_date - df['Date']).dt.days\n",
    "    df.Days_Since_Registration = df.Days_Since_Registration.fillna(df.Days_Since_Registration.mean())\n",
    "    df.Days_Since_Registration = round(df.Days_Since_Registration,0).astype(int)\n",
    "\n",
    "    df.ProductsPurchased = df.ProductsPurchased.fillna(0)\n",
    "\n",
    "    Age_mapper = {'35-39': 37, '19-24':22, '55-59':57, '40-44':42, '60-64':62, '80-84':82, '65-69':67,\n",
    "           '50-54':52, '25-29':27, '45-49':47, '70-74':72, '30-34':32, '75-79':77, '85-89':87,\n",
    "           '90-94':92, '95-99':97}\n",
    "    df['Age'] = df['AgeBracket']\n",
    "    df['Age'] = df['Age'].replace(Age_mapper)\n",
    "    df.Age = df.Age.fillna(df.Age.mean())\n",
    "\n",
    "    Income_mapper = {'$60-69':65, '$80-89':85, '$40-49':45, '$10-19':15, '$30-39':35, '$50-59':55,\n",
    "           '$90-99':95, 'Under $10K':9, '$20-29':25, '$100-149':125, '$250K+':300, '$70-79':75,\n",
    "           '$175-199':187, '$200-249':225, '$150-174':162}\n",
    "    df['Income'] = df['HHIncome']\n",
    "    df['Income'] = df['Income'].replace(Income_mapper)\n",
    "    df.Income = df.Income.fillna(df.Income.mean())\n",
    "\n",
    "    df = pd.get_dummies(df, columns = ['Gender'])\n",
    "\n",
    "    df.loc[~df['RegistrationCode'].isnull(),'RegistrationCodeUsed'] = 1\n",
    "    df.loc[df['RegistrationCode'].isnull(),'RegistrationCodeUsed'] = 0\n",
    "    \n",
    "    clean_data = df[['ProductsPurchased',\n",
    "           'Risk', 'Frequency',\n",
    "           'HasChildren', \n",
    "           'Days_Since_Registration', 'Age',\n",
    "           'Income', 'Gender_A', 'Gender_B',\n",
    "           'Gender_C', 'Gender_F', 'Gender_I', 'Gender_M', 'Gender_U',\n",
    "           'RegistrationCodeUsed', 'IsClick']]\n",
    "    return(clean_data)"
   ]
  },
  {
   "cell_type": "code",
   "execution_count": 4,
   "metadata": {
    "collapsed": true
   },
   "outputs": [],
   "source": [
    "mapped_data = transform_data(data)"
   ]
  },
  {
   "cell_type": "markdown",
   "metadata": {},
   "source": [
    "# Split Data"
   ]
  },
  {
   "cell_type": "code",
   "execution_count": 5,
   "metadata": {
    "collapsed": true
   },
   "outputs": [],
   "source": [
    "import sklearn\n",
    "from sklearn.model_selection import train_test_split\n",
    "\n",
    "X = mapped_data.iloc[:,:-1]\n",
    "y = mapped_data['IsClick']\n",
    "\n",
    "X_train, X_test, y_train, y_test = train_test_split(X, y, test_size=0.15, random_state=42)"
   ]
  },
  {
   "cell_type": "markdown",
   "metadata": {},
   "source": [
    "### Random guessing would get us a baseline score of"
   ]
  },
  {
   "cell_type": "code",
   "execution_count": 6,
   "metadata": {
    "collapsed": false
   },
   "outputs": [
    {
     "name": "stdout",
     "output_type": "stream",
     "text": [
      "Baseline % = 54.63%\n"
     ]
    }
   ],
   "source": [
    "percent_clicked = round(len(mapped_data.loc[mapped_data.IsClick == 1]) / len(mapped_data),4)*100\n",
    "print('Baseline % = {}%'.format(percent_clicked))"
   ]
  },
  {
   "cell_type": "markdown",
   "metadata": {},
   "source": [
    "# Score Models"
   ]
  },
  {
   "cell_type": "code",
   "execution_count": 7,
   "metadata": {
    "collapsed": false
   },
   "outputs": [
    {
     "name": "stdout",
     "output_type": "stream",
     "text": [
      "Training Scores\n",
      "Accuracy: 0.55 (+/- 0.00) [Logistic Regression]\n",
      "Accuracy: 0.55 (+/- 0.00) [Random Forest]\n",
      "Accuracy: 0.55 (+/- 0.00) [naive Bayes]\n",
      "Accuracy: 0.54 (+/- 0.00) [KNN]\n",
      "Accuracy: 0.55 (+/- 0.00) [Ensemble]\n"
     ]
    }
   ],
   "source": [
    "from sklearn.model_selection import cross_val_score\n",
    "from sklearn.linear_model import LogisticRegression\n",
    "from sklearn.naive_bayes import GaussianNB\n",
    "from sklearn.neighbors import KNeighborsClassifier\n",
    "from sklearn.ensemble import RandomForestClassifier\n",
    "from sklearn.ensemble import VotingClassifier\n",
    "\n",
    "clf1 = LogisticRegression(random_state=1)\n",
    "clf2 = RandomForestClassifier(random_state=1)\n",
    "clf3 = GaussianNB()\n",
    "clf4 = KNeighborsClassifier(n_neighbors=6)\n",
    "\n",
    "eclf = VotingClassifier(estimators=[('lr', clf1), ('rf', clf2), ('gnb', clf3),('knn',clf4)], voting='hard')\n",
    "print(\"Training Scores\")\n",
    "for clf, label in zip([clf1, clf2, clf3, clf4, eclf], ['Logistic Regression', 'Random Forest', 'naive Bayes','KNN', 'Ensemble']):\n",
    "    scores = cross_val_score(clf, X_train, y_train, cv=5, scoring='accuracy')\n",
    "    print(\"Accuracy: %0.2f (+/- %0.2f) [%s]\" % (scores.mean(), scores.std(), label))"
   ]
  },
  {
   "cell_type": "markdown",
   "metadata": {},
   "source": [
    "# Test Models"
   ]
  },
  {
   "cell_type": "code",
   "execution_count": 8,
   "metadata": {
    "collapsed": false
   },
   "outputs": [
    {
     "name": "stdout",
     "output_type": "stream",
     "text": [
      "Testing Scores\n",
      "Accuracy: 0.55 [Logistic Regression]\n",
      "Accuracy: 0.55 [Random Forest]\n",
      "Accuracy: 0.55 [naive Bayes]\n",
      "Accuracy: 0.55 [KNN]\n",
      "Accuracy: 0.55 [Ensemble]\n"
     ]
    }
   ],
   "source": [
    "print('Testing Scores')\n",
    "for clf, label in zip([clf1, clf2, clf3, clf4, eclf], ['Logistic Regression', 'Random Forest', 'naive Bayes','KNN', 'Ensemble']):\n",
    "    score = clf.fit(X_train, y_train).score(X_test,y_test)\n",
    "    print(\"Accuracy: %0.2f [%s]\" % (round(score,2), label))"
   ]
  },
  {
   "cell_type": "code",
   "execution_count": null,
   "metadata": {
    "collapsed": true
   },
   "outputs": [],
   "source": []
  }
 ],
 "metadata": {
  "kernelspec": {
   "display_name": "Python 3",
   "language": "python",
   "name": "python3"
  },
  "language_info": {
   "codemirror_mode": {
    "name": "ipython",
    "version": 3
   },
   "file_extension": ".py",
   "mimetype": "text/x-python",
   "name": "python",
   "nbconvert_exporter": "python",
   "pygments_lexer": "ipython3",
   "version": "3.6.0"
  }
 },
 "nbformat": 4,
 "nbformat_minor": 2
}
